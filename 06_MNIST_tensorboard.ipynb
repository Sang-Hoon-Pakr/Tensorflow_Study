{
 "cells": [
  {
   "cell_type": "code",
   "execution_count": 1,
   "metadata": {
    "collapsed": true
   },
   "outputs": [],
   "source": [
    "import tensorflow as tf\n",
    "import numpy as np"
   ]
  },
  {
   "cell_type": "code",
   "execution_count": 2,
   "metadata": {},
   "outputs": [
    {
     "name": "stdout",
     "output_type": "stream",
     "text": [
      "Extracting ./mnist/data/train-images-idx3-ubyte.gz\n",
      "Extracting ./mnist/data/train-labels-idx1-ubyte.gz\n",
      "Extracting ./mnist/data/t10k-images-idx3-ubyte.gz\n",
      "Extracting ./mnist/data/t10k-labels-idx1-ubyte.gz\n"
     ]
    }
   ],
   "source": [
    "from tensorflow.examples.tutorials.mnist import input_data\n",
    "# 텐서플로우에 기본 내장된 mnist 모듈을 이용하여 데이터를 로드합니다.\n",
    "# 지정한 폴더에 MNIST 데이터가 없는 경우 자동으로 데이터를 다운로드합니다.\n",
    "# one_hot 옵션은 레이블을 동물 분류 예제에서 보았던 one_hot 방식의 데이터로 만들어줍니다.\n",
    "mnist = input_data.read_data_sets(\"./mnist/data/\", one_hot = True)"
   ]
  },
  {
   "cell_type": "code",
   "execution_count": 3,
   "metadata": {},
   "outputs": [],
   "source": [
    "#########\n",
    "# 신경망 모델 구성\n",
    "######\n",
    "global_step = tf.Variable(0, trainable=False, name='global_step')\n",
    "# 입력 값의 차원은 [배치크기, 특성값] 으로 되어 있습니다.\n",
    "# 손글씨 이미지는 28x28 픽셀로 이루어져 있고, 이를 784개의 특성값으로 정합니다. develop\n",
    "X = tf.placeholder(tf.float32, [None, 784])\n",
    "# 결과는 0~9 의 10 가지 분류를 가집니다.\n",
    "Y = tf.placeholder(tf.float32, [None, 10])\n",
    "\n",
    "# 신경망의 레이어는 다음처럼 구성합니다.\n",
    "# 784(입력 특성값)\n",
    "#   -> 256 (히든레이어 뉴런 갯수) -> 256 (히든레이어 뉴런 갯수)\n",
    "#   -> 10 (결과값 0~9 분류)\n",
    "with tf.name_scope('layer1'):\n",
    "    W1 = tf.Variable(tf.random_normal([784, 256], stddev=0.01), name='W1')\n",
    "    # 입력값에 가중치를 곱하고 ReLU 함수를 이용하여 레이어를 만듭니다.\n",
    "    L1 = tf.nn.relu(tf.matmul(X, W1))\n",
    "    \n",
    "with tf.name_scope('layer2'):\n",
    "    W2 = tf.Variable(tf.random_normal([256, 256], stddev=0.01), name='W2')\n",
    "    # L1 레이어의 출력값에 가중치를 곱하고 ReLU 함수를 이용하여 레이어를 만듭니다.\n",
    "    L2 = tf.nn.relu(tf.matmul(L1, W2))\n",
    "\n",
    "with tf.name_scope('output'):\n",
    "    W3 = tf.Variable(tf.random_normal([256, 10], stddev=0.01), name='W3')\n",
    "    # 최종 모델의 출력값은 W3 변수를 곱해 10개의 분류를 가지게 됩니다.\n",
    "    model = tf.matmul(L2, W3)\n",
    "\n",
    "with tf.name_scope('optimizer'):\n",
    "    cost = tf.reduce_mean(tf.nn.softmax_cross_entropy_with_logits(logits=model, labels=Y))\n",
    "    optimizer = tf.train.AdamOptimizer(0.001).minimize(cost, global_step=global_step)\n",
    "    \n",
    "    tf.summary.scalar('cost', cost)\n",
    "    \n",
    "with tf.name_scope('accuracy'):\n",
    "    is_correct = tf.equal(tf.argmax(model, 1), tf.argmax(Y, 1))\n",
    "    accuracy = tf.reduce_mean(tf.cast(is_correct, tf.float32))\n",
    "    \n",
    "    tf.summary.scalar('accuracy', accuracy)\n",
    "    \n"
   ]
  },
  {
   "cell_type": "code",
   "execution_count": 4,
   "metadata": {},
   "outputs": [
    {
     "name": "stdout",
     "output_type": "stream",
     "text": [
      "Epoch: 0001 Avg. cost = 0.413\n",
      "Epoch: 0002 Avg. cost = 0.153\n",
      "Epoch: 0003 Avg. cost = 0.099\n",
      "Epoch: 0004 Avg. cost = 0.072\n",
      "Epoch: 0005 Avg. cost = 0.052\n",
      "Epoch: 0006 Avg. cost = 0.041\n",
      "Epoch: 0007 Avg. cost = 0.032\n",
      "Epoch: 0008 Avg. cost = 0.024\n",
      "Epoch: 0009 Avg. cost = 0.021\n",
      "Epoch: 0010 Avg. cost = 0.016\n",
      "Epoch: 0011 Avg. cost = 0.015\n",
      "Epoch: 0012 Avg. cost = 0.013\n",
      "Epoch: 0013 Avg. cost = 0.015\n",
      "Epoch: 0014 Avg. cost = 0.014\n",
      "Epoch: 0015 Avg. cost = 0.012\n",
      "최적화 완료!\n"
     ]
    }
   ],
   "source": [
    "#########\n",
    "# 신경망 모델 학습\n",
    "######\n",
    "sess = tf.Session()\n",
    "saver = tf.train.Saver(tf.global_variables())\n",
    "\n",
    "ckpt = tf.train.get_checkpoint_state('./model')\n",
    "if ckpt and tf.train.checkpoint_exists(ckpt.model_checkpoint_path):\n",
    "    saver.restore(sess, ckpt.model_checkpoint_path)\n",
    "else:\n",
    "    sess.run(tf.global_variables_initializer())\n",
    "    \n",
    "merged = tf.summary.merge_all()\n",
    "writer = tf.summary.FileWriter('./logs', sess.graph)\n",
    "\n",
    "batch_size = 100\n",
    "total_batch = int(mnist.train.num_examples / batch_size)\n",
    "for epoch in range(15):\n",
    "    total_cost = 0\n",
    "\n",
    "    for i in range(total_batch):\n",
    "        # 텐서플로우의 mnist 모델의 next_batch 함수를 이용해\n",
    "        # 지정한 크기만큼 학습할 데이터를 가져옵니다.\n",
    "        batch_xs, batch_ys = mnist.train.next_batch(batch_size)\n",
    "\n",
    "        _, cost_val = sess.run([optimizer, cost], feed_dict={X: batch_xs, Y: batch_ys})\n",
    "        total_cost = total_cost+cost_val\n",
    "\n",
    "    print('Epoch:', '%04d' % (epoch + 1),\n",
    "          'Avg. cost =', '{:.3f}'.format(total_cost / total_batch))\n",
    "    \n",
    "    summary, acc = sess.run([merged, accuracy], feed_dict={X: mnist.test.images, Y: mnist.test.labels})\n",
    "    writer.add_summary(summary, global_step = sess.run(global_step))\n",
    "saver.save(sess, './model/dnn.ckpt', global_step=global_step)\n",
    "# for epoch in range(15):\n",
    "#     total_cost = 0;\n",
    "    \n",
    "#     for i in range(total_batch):\n",
    "#         # 텐서플로우의 mnist 모델의 next_batch 함수를 이용해\n",
    "#         # 지정한 크기만큼 학습할 데이터를 가져옵니다\n",
    "#         batch_xs, batch_ys = mnist.train.next_batch(batch_size)\n",
    "        \n",
    "#         _, cost_val = sess.run([optimizer, cost], feed_dict = {X:batch_xs, Y:batch_ys})\n",
    "#         total_cost += cost_val\n",
    "        \n",
    "# #     print('Epoch:', '%04d' % (epoch+1),\n",
    "# #          'Avg. cost =', '%04f'% (total_cost / total_batch))\n",
    "    \n",
    "print('최적화 완료!')"
   ]
  },
  {
   "cell_type": "code",
   "execution_count": 5,
   "metadata": {},
   "outputs": [
    {
     "name": "stdout",
     "output_type": "stream",
     "text": [
      "정확도: 0.9779\n"
     ]
    }
   ],
   "source": [
    "#########\n",
    "# 결과 확인\n",
    "######\n",
    "# model 로 예측한 값과 실제 레이블인 Y의 값을 비교합니다.\n",
    "# tf.argmax 함수를 이용해 예측한 값에서 가장 큰 값을 예측한 레이블이라고 평가합니다.\n",
    "# 예) [0.1 0 0 0.7 0 0.2 0 0 0 0] -> 3\n",
    "is_correct = tf.equal(tf.argmax(model, 1), tf.argmax(Y, 1))\n",
    "accuracy = tf.reduce_mean(tf.cast(is_correct, tf.float32))\n",
    "print('정확도:', sess.run(accuracy,\n",
    "                        feed_dict={X: mnist.test.images,\n",
    "                                   Y: mnist.test.labels}))\n"
   ]
  }
 ],
 "metadata": {
  "kernelspec": {
   "display_name": "Python 3",
   "language": "python",
   "name": "python3"
  },
  "language_info": {
   "codemirror_mode": {
    "name": "ipython",
    "version": 3
   },
   "file_extension": ".py",
   "mimetype": "text/x-python",
   "name": "python",
   "nbconvert_exporter": "python",
   "pygments_lexer": "ipython3",
   "version": "3.5.2"
  }
 },
 "nbformat": 4,
 "nbformat_minor": 2
}
