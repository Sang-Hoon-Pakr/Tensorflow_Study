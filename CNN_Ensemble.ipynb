{
 "cells": [
  {
   "cell_type": "code",
   "execution_count": 1,
   "metadata": {},
   "outputs": [
    {
     "name": "stderr",
     "output_type": "stream",
     "text": [
      "C:\\Users\\HCILab\\Anaconda3\\lib\\site-packages\\h5py\\__init__.py:36: FutureWarning: Conversion of the second argument of issubdtype from `float` to `np.floating` is deprecated. In future, it will be treated as `np.float64 == np.dtype(float).type`.\n",
      "  from ._conv import register_converters as _register_converters\n"
     ]
    }
   ],
   "source": [
    "import tensorflow as tf\n",
    "import numpy as np\n",
    "import matplotlib.pyplot as plt"
   ]
  },
  {
   "cell_type": "code",
   "execution_count": 2,
   "metadata": {},
   "outputs": [
    {
     "name": "stdout",
     "output_type": "stream",
     "text": [
      "Extracting MNIST_data/train-images-idx3-ubyte.gz\n",
      "Extracting MNIST_data/train-labels-idx1-ubyte.gz\n",
      "Extracting MNIST_data/t10k-images-idx3-ubyte.gz\n",
      "Extracting MNIST_data/t10k-labels-idx1-ubyte.gz\n"
     ]
    }
   ],
   "source": [
    "from tensorflow.examples.tutorials.mnist import input_data\n",
    "tf.set_random_seed(777)\n",
    "mnist=input_data.read_data_sets('MNIST_data/', one_hot=True)\n",
    "\n",
    "learning_rate = 0.001\n",
    "training_epochs = 15\n",
    "batch_size = 100"
   ]
  },
  {
   "cell_type": "code",
   "execution_count": 3,
   "metadata": {},
   "outputs": [
    {
     "name": "stdout",
     "output_type": "stream",
     "text": [
      "Learning Started !!\n",
      "Epoch: 0001 cost = [0.81848643 0.76761442]\n",
      "Epoch: 0002 cost = [0.3056006  0.28274763]\n",
      "Epoch: 0003 cost = [0.23312731 0.22635201]\n",
      "Epoch: 0004 cost = [0.20356958 0.19750656]\n",
      "Epoch: 0005 cost = [0.18064287 0.18549961]\n",
      "Epoch: 0006 cost = [0.17190514 0.17390538]\n",
      "Epoch: 0007 cost = [0.16352931 0.16309679]\n",
      "Epoch: 0008 cost = [0.15876705 0.15620522]\n",
      "Epoch: 0009 cost = [0.15436599 0.15073826]\n",
      "Epoch: 0010 cost = [0.14715566 0.14401712]\n",
      "Epoch: 0011 cost = [0.14736836 0.14602102]\n",
      "Epoch: 0012 cost = [0.14208572 0.14265901]\n",
      "Epoch: 0013 cost = [0.13512134 0.13909798]\n",
      "Epoch: 0014 cost = [0.13151138 0.1399959 ]\n",
      "Epoch: 0015 cost = [0.13839574 0.1396395 ]\n",
      "Learning Finished!\n"
     ]
    }
   ],
   "source": [
    "class Model:\n",
    "    def __init__(self, sess, name):\n",
    "        self.sess = sess\n",
    "        self.name = name\n",
    "        self._build_net()\n",
    "        \n",
    "    def _build_net(self):\n",
    "        with tf.variable_scope(self.name):\n",
    "            self.training = tf.placeholder(tf.bool)\n",
    "            \n",
    "            self.X = tf.placeholder(tf.float32, [None, 784])\n",
    "            X_img = tf.reshape(self.X, [-1, 28, 28, 1])\n",
    "            self.Y = tf.placeholder(tf.float32, [None, 10])\n",
    "            \n",
    "            ## Conv 1 layer \n",
    "            conv1 = tf.layers.conv2d(X_img, 32, [3, 3],\n",
    "                                     padding='SAME', activation=tf.nn.relu)\n",
    "            pool1 = tf.layers.max_pooling2d(conv1, [2, 2], [2, 2],\n",
    "                                           padding='SAME')\n",
    "            drop1 = tf.layers.dropout(pool1, 0.7, training =self.training)\n",
    "            \n",
    "            ## Conv 2 layer \n",
    "            conv2 = tf.layers.conv2d(drop1, 64, [3, 3],\n",
    "                                     padding='SAME', activation=tf.nn.relu)\n",
    "            pool2 = tf.layers.max_pooling2d(conv2, [2, 2], [2, 2],\n",
    "                                           padding='SAME')\n",
    "            drop2 = tf.layers.dropout(pool2, 0.7, training =self.training)\n",
    "            \n",
    "            ## Conv 3 layer \n",
    "            conv3 = tf.layers.conv2d(drop2, 128, [3, 3],\n",
    "                                     padding='SAME', activation=tf.nn.relu)\n",
    "            pool3 = tf.layers.max_pooling2d(conv3, [2, 2], [2, 2],\n",
    "                                           padding='SAME')\n",
    "            drop3 = tf.layers.dropout(pool3, 0.7, training =self.training)\n",
    "            \n",
    "            flat = tf.layers.flatten(drop3)\n",
    "            full4 = tf.layers.dense(flat, 625, activation=tf.nn.relu)\n",
    "            drop4 = tf.layers.dropout(full4, 0.5, training=self.training)\n",
    "            \n",
    "            self.logits = tf.layers.dense(drop4, 10)\n",
    "            \n",
    "            self.cost = tf.reduce_mean(tf.nn.softmax_cross_entropy_with_logits_v2(\n",
    "            logits= self.logits, labels= self.Y))\n",
    "            self.optimizer = tf.train.AdamOptimizer(\n",
    "                learning_rate=learning_rate).minimize(self.cost)\n",
    "            \n",
    "            corrected_prediction = tf.equal(\n",
    "            tf.argmax(self.logits, 1), tf.argmax(self.Y, 1))\n",
    "            self.accuracy = tf.reduce_mean(tf.cast(corrected_prediction, tf.float32))\n",
    "            \n",
    "    def predict(self, x_test, training=False):\n",
    "        return self.sess.run(self.logits,\n",
    "                            feed_dict={self.X: x_test, self.training: training})\n",
    "    \n",
    "    def get_accuracy(self, x_test, y_test, training=False):\n",
    "        return self.sess.run(self.accuracy,\n",
    "                            feed_dict={self.X:x_test,\n",
    "                                      self.Y: y_test, self.training: training})\n",
    "    \n",
    "    def train(self, x_data, y_data, training=True):\n",
    "        return self.sess.run([self.cost, self.optimizer],\n",
    "                             feed_dict={self.X:x_data, self.Y:y_data,\n",
    "                                       self.training:training})\n",
    "\n",
    "sess=tf.Session()\n",
    "\n",
    "models =[]\n",
    "num_models = 2\n",
    "\n",
    "for m in range(num_models):\n",
    "    models.append(Model(sess, 'model' + str(m)))\n",
    "    \n",
    "\n",
    "sess.run(tf.global_variables_initializer())\n",
    "\n",
    "print('Learning Started !!')\n",
    "\n",
    "for epoch in range(training_epochs):\n",
    "    avg_cost = np.zeros(len(models))\n",
    "    total_batch = int(mnist.train.num_examples/batch_size)\n",
    "    \n",
    "    for i in range(total_batch):\n",
    "        batch_xs, batch_ys = mnist.train.next_batch(batch_size)\n",
    "        \n",
    "        for m_idx, m in enumerate(models):\n",
    "            c, _ = m.train(batch_xs, batch_ys)\n",
    "            avg_cost[m_idx] += c / total_batch\n",
    "            \n",
    "    print('Epoch:', '%04d' % (epoch + 1), 'cost =', avg_cost)\n",
    "print('Learning Finished!')\n"
   ]
  },
  {
   "cell_type": "code",
   "execution_count": 4,
   "metadata": {},
   "outputs": [
    {
     "name": "stdout",
     "output_type": "stream",
     "text": [
      "0 Accuracy: 0.9898\n",
      "1 Accuracy: 0.9879\n",
      "Ensemble accuracy: 0.9905\n"
     ]
    }
   ],
   "source": [
    "test_size = len(mnist.test.labels)\n",
    "predictions = np.zeros([test_size, 10])\n",
    "for m_idx, m in enumerate(models):\n",
    "    print(m_idx, 'Accuracy:', m.get_accuracy(mnist.test.images, mnist.test.labels))\n",
    "    p = m.predict(mnist.test.images)\n",
    "    predictions += p\n",
    "    \n",
    "ensemble_correct_prediction = tf.equal(\n",
    "    tf.argmax(predictions, 1), tf.argmax(mnist.test.labels, 1))\n",
    "ensemble_accuracy = tf.reduce_mean(\n",
    "    tf.cast(ensemble_correct_prediction, tf.float32))\n",
    "\n",
    "print('Ensemble accuracy:', sess.run(ensemble_accuracy))"
   ]
  },
  {
   "cell_type": "code",
   "execution_count": null,
   "metadata": {},
   "outputs": [],
   "source": []
  }
 ],
 "metadata": {
  "kernelspec": {
   "display_name": "Python 3",
   "language": "python",
   "name": "python3"
  },
  "language_info": {
   "codemirror_mode": {
    "name": "ipython",
    "version": 3
   },
   "file_extension": ".py",
   "mimetype": "text/x-python",
   "name": "python",
   "nbconvert_exporter": "python",
   "pygments_lexer": "ipython3",
   "version": "3.6.4"
  }
 },
 "nbformat": 4,
 "nbformat_minor": 2
}
